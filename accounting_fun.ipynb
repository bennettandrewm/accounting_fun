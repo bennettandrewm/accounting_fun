{
 "cells": [
  {
   "cell_type": "markdown",
   "metadata": {},
   "source": [
    "# Accounting Fun\n",
    "\n",
    "<p align=\"center\">\n",
    "<img src=\"images/accounting.png\" width=\"400\" height=\"400\" />\n",
    "</p>\n",
    "\n",
    "## Overview\n",
    "This project is currently under construction. But when complete, it will alleviate the hastle of managing my expenses from a spreadsheet every month. The idea is to maintain my own database of expenses, and then have a machine learning model categorize those expenses. Once we've classified it, we can develop dashboards that will resonate with everyone.\n",
    "<br />\n",
    "\n",
    "## Table of Contents TOC<a id='table-of-contents-TOC'></a> \n",
    "[Google Colab Instructions](#google-colab-instructions)<br />\n",
    "[Business Case](#business-case)<br />\n",
    "[Data Understanding](#data-understanding)<br />\n",
    "[Data Preparation](#data-preparation)<br />\n",
    "[Modeling](#modeling)<br />\n",
    "[Evaluation](#evaluation)<br />\n",
    "[Key Findings](#key-findings)<br />\n",
    "[Summary](#summary)<br />"
   ]
  },
  {
   "cell_type": "markdown",
   "metadata": {},
   "source": [
    "## Google Colab Instructions <a id='google-colab-instructions'></a> \n",
    "To run this notebook, you'll need a Kaggle log-in and web access to [Google Colab and link to this notebook](). Google Colab is a free, user-friendly platform to run software, specifically data models. Kaggle is a [website](https://www.kaggle.com/) popular with the data industry that hosts databases and runs data analytics competition. To access the [database]() for this model, you\n",
    "will need to create a Kaggle account and follow the instructions to download your 'token' and 'key'. This\n",
    "model will prompt you to have that information.\n",
    "<br />[return to TOC](#table-of-contents-TOC)"
   ]
  },
  {
   "cell_type": "markdown",
   "metadata": {},
   "source": [
    "## Business Case <a id='business-case'></a> \n",
    "\n",
    "<br />[return to TOC](#table-of-contents-TOC)"
   ]
  },
  {
   "cell_type": "markdown",
   "metadata": {},
   "source": [
    "## Data Understanding <a id='data-understanding'></a>\n",
    "<br />[return to TOC](#table-of-contents-TOC)\n",
    "\n",
    "The data can be found in the following locations:\n",
    "\n",
    "* [Kaggle]()\n",
    "* [THis Repository]()"
   ]
  },
  {
   "cell_type": "code",
   "execution_count": 2,
   "metadata": {},
   "outputs": [
    {
     "name": "stdout",
     "output_type": "stream",
     "text": [
      "Files and directories in ' C:/Users/benne/OneDrive/Desktop/Expenses ' :\n",
      "['July', 'Monthly Expenses - 2024.xlsx', 'montly_expenses_2024.xls']\n"
     ]
    }
   ],
   "source": [
    "## Data Preparation <a id='data-preparation'></a>\n",
    "'''\n",
    "Stored locally in a csv file\n",
    "\n",
    "Automatically read and put into folder\n",
    "'''\n",
    "# import OS module\n",
    "import os\n",
    "\n",
    "# Get the list of all files and directories\n",
    "path = \"C:/Users/benne/OneDrive/Desktop/Expenses\"\n",
    "\n",
    "dir_list = os.listdir(path)\n",
    "print(\"Files and directories in '\", path, \"' :\")\n",
    "\n",
    "# prints all files\n",
    "print(dir_list)"
   ]
  },
  {
   "cell_type": "code",
   "execution_count": 3,
   "metadata": {},
   "outputs": [],
   "source": [
    "import pandas as pd"
   ]
  },
  {
   "cell_type": "code",
   "execution_count": 4,
   "metadata": {},
   "outputs": [],
   "source": [
    "#return month of expenses\n",
    "def getmonth():\n",
    "    month = 'July'\n",
    "    return month"
   ]
  },
  {
   "cell_type": "code",
   "execution_count": 5,
   "metadata": {},
   "outputs": [],
   "source": [
    "#return account of the four major accounts\n",
    "def getaccount():\n",
    "    account = 'capital_one'\n",
    "    return account"
   ]
  },
  {
   "cell_type": "code",
   "execution_count": 6,
   "metadata": {},
   "outputs": [],
   "source": [
    "#manual input of path name\n",
    "folder = 'C:/Users/benne/OneDrive/Desktop/Expenses/'\n",
    "month = getmonth()\n",
    "acc = getaccount()\n",
    "ext = '.csv'\n",
    "\n",
    "#concatenated path\n",
    "path = folder+month+'/'+acc+ext"
   ]
  },
  {
   "cell_type": "code",
   "execution_count": 50,
   "metadata": {},
   "outputs": [],
   "source": [
    "#Create dataframe formatted to the account\n",
    "expenses_test = pd.read_csv(path, usecols=['Transaction Description', 'Transaction Date', 'Transaction Amount', 'Transaction Type'])[['Transaction Date', 'Transaction Description', 'Transaction Amount', 'Transaction Type']]\n",
    "expenses_test.insert(1, column = 'Post Date', value = '')\n",
    "expenses_test.insert(3, column = 'Description', value = '')\n",
    "expenses_test.insert(4, column = 'Category', value = '')\n",
    "expenses_test.insert(6, column = 'Type', value = 'Expense')\n",
    "expenses_test.insert(7, column = 'Account', value = acc)\n",
    "expenses_test.insert(8, column = 'Frequency', value = 'One Time')"
   ]
  },
  {
   "cell_type": "code",
   "execution_count": 59,
   "metadata": {},
   "outputs": [],
   "source": [
    "#for capital one account\n",
    "expenses_test.loc[expenses_test['Transaction Type'] == 'Debit', 'Transaction Amount'] *= -1"
   ]
  },
  {
   "cell_type": "code",
   "execution_count": null,
   "metadata": {},
   "outputs": [],
   "source": []
  },
  {
   "cell_type": "code",
   "execution_count": null,
   "metadata": {},
   "outputs": [],
   "source": []
  },
  {
   "cell_type": "code",
   "execution_count": null,
   "metadata": {},
   "outputs": [],
   "source": []
  },
  {
   "cell_type": "code",
   "execution_count": null,
   "metadata": {},
   "outputs": [],
   "source": []
  },
  {
   "cell_type": "code",
   "execution_count": null,
   "metadata": {},
   "outputs": [],
   "source": [
    "#insert function to return item description"
   ]
  },
  {
   "cell_type": "markdown",
   "metadata": {},
   "source": [
    "<br />[return to TOC](#table-of-contents-TOC)"
   ]
  },
  {
   "cell_type": "code",
   "execution_count": null,
   "metadata": {},
   "outputs": [],
   "source": []
  },
  {
   "cell_type": "code",
   "execution_count": null,
   "metadata": {},
   "outputs": [],
   "source": []
  },
  {
   "cell_type": "markdown",
   "metadata": {},
   "source": [
    "## Modeling <a id='modeling'></a> \n",
    "\n",
    "<br />[return to TOC](#table-of-contents-TOC)"
   ]
  },
  {
   "cell_type": "markdown",
   "metadata": {},
   "source": [
    "## Evaluation<a id='evaluation'></a>\n",
    "\n",
    "<br />[return to TOC](#table-of-contents-TOC)"
   ]
  },
  {
   "cell_type": "markdown",
   "metadata": {},
   "source": [
    "## Key Findings<a id='key-findings'></a>\n",
    "\n",
    "<br />[return to TOC](#table-of-contents-TOC)"
   ]
  },
  {
   "cell_type": "markdown",
   "metadata": {},
   "source": [
    "## Summary<a id='summary'></a>\n",
    "\n",
    "### Next Steps:\n",
    "#### Additional Data\n",
    "\n",
    "#### Test UI Prompts\n",
    "\n",
    "#### Try Calorie Counting\n",
    "\n",
    "<br />[return to TOC](#table-of-contents-TOC)"
   ]
  },
  {
   "cell_type": "code",
   "execution_count": null,
   "metadata": {},
   "outputs": [],
   "source": []
  }
 ],
 "metadata": {
  "kernelspec": {
   "display_name": "Python (learn-env)",
   "language": "python",
   "name": "learn-env"
  },
  "language_info": {
   "codemirror_mode": {
    "name": "ipython",
    "version": 3
   },
   "file_extension": ".py",
   "mimetype": "text/x-python",
   "name": "python",
   "nbconvert_exporter": "python",
   "pygments_lexer": "ipython3",
   "version": "3.8.5"
  }
 },
 "nbformat": 4,
 "nbformat_minor": 4
}
