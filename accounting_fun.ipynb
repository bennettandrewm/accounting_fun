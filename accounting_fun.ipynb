{
 "cells": [
  {
   "cell_type": "markdown",
   "metadata": {},
   "source": [
    "# Accounting Fun\n",
    "\n",
    "<p align=\"center\">\n",
    "<img src=\"images/accounting.png\" width=\"400\" height=\"400\" />\n",
    "</p>\n",
    "\n",
    "## Overview\n",
    "This project is currently under construction. But when complete, it will alleviate the hastle of managing my expenses from a spreadsheet every month. The idea is to maintain my own database of expenses, and then have a machine learning model categorize those expenses. Once we've classified it, we can develop dashboards that will resonate with everyone.\n",
    "<br />\n",
    "\n",
    "## Table of Contents TOC<a id='table-of-contents-TOC'></a> \n",
    "[Google Colab Instructions](#google-colab-instructions)<br />\n",
    "[Business Case](#business-case)<br />\n",
    "[Data Understanding](#data-understanding)<br />\n",
    "[Data Preparation](#data-preparation)<br />\n",
    "[Modeling](#modeling)<br />\n",
    "[Evaluation](#evaluation)<br />\n",
    "[Key Findings](#key-findings)<br />\n",
    "[Summary](#summary)<br />"
   ]
  },
  {
   "cell_type": "markdown",
   "metadata": {},
   "source": [
    "## Google Colab Instructions <a id='google-colab-instructions'></a> \n",
    "To run this notebook, you'll need a Kaggle log-in and web access to [Google Colab and link to this notebook](). Google Colab is a free, user-friendly platform to run software, specifically data models. Kaggle is a [website](https://www.kaggle.com/) popular with the data industry that hosts databases and runs data analytics competition. To access the [database]() for this model, you\n",
    "will need to create a Kaggle account and follow the instructions to download your 'token' and 'key'. This\n",
    "model will prompt you to have that information.\n",
    "<br />[return to TOC](#table-of-contents-TOC)"
   ]
  },
  {
   "cell_type": "markdown",
   "metadata": {},
   "source": [
    "## Business Case <a id='business-case'></a> \n",
    "\n",
    "<br />[return to TOC](#table-of-contents-TOC)"
   ]
  },
  {
   "cell_type": "markdown",
   "metadata": {},
   "source": [
    "## Data Understanding <a id='data-understanding'></a>\n",
    "<br />[return to TOC](#table-of-contents-TOC)\n",
    "\n",
    "The data can be found in the following locations:\n",
    "\n",
    "* [Kaggle]()\n",
    "* [THis Repository]()"
   ]
  },
  {
   "cell_type": "code",
   "execution_count": 4,
   "metadata": {},
   "outputs": [
    {
     "name": "stdout",
     "output_type": "stream",
     "text": [
      "Files and directories in ' C:/Users/benne/OneDrive/Desktop/Expenses ' :\n",
      "['Monthly Expenses - 2024.xlsx']\n"
     ]
    }
   ],
   "source": [
    "## Data Preparation <a id='data-preparation'></a>\n",
    "'''\n",
    "Stored locally in a csv file\n",
    "\n",
    "Automatically read and put into folder\n",
    "'''\n",
    "# import OS module\n",
    "import os\n",
    "\n",
    "# Get the list of all files and directories\n",
    "path = \"C:/Users/benne/OneDrive/Desktop/Expenses\"\n",
    "\n",
    "dir_list = os.listdir(path)\n",
    "print(\"Files and directories in '\", path, \"' :\")\n",
    "\n",
    "# prints all files\n",
    "print(dir_list)"
   ]
  },
  {
   "cell_type": "code",
   "execution_count": 9,
   "metadata": {},
   "outputs": [],
   "source": [
    "import pandas as pd"
   ]
  },
  {
   "cell_type": "code",
   "execution_count": 24,
   "metadata": {},
   "outputs": [],
   "source": [
    "#return month of expenses\n",
    "def getmonth():\n",
    "    month = 'July'\n",
    "    return month"
   ]
  },
  {
   "cell_type": "code",
   "execution_count": 26,
   "metadata": {},
   "outputs": [],
   "source": [
    "#return account of the four major accounts\n",
    "def getaccount():\n",
    "    account = 'capital_one'\n",
    "    return account"
   ]
  },
  {
   "cell_type": "code",
   "execution_count": 28,
   "metadata": {},
   "outputs": [],
   "source": [
    "#manual input of path name\n",
    "folder = 'C:/Users/benne/OneDrive/Desktop/Expenses/'\n",
    "month = getmonth()\n",
    "acc = getaccount()\n",
    "ext = '.csv'\n",
    "\n",
    "#concatenated path\n",
    "path = folder+month+'/'+acc+ext"
   ]
  },
  {
   "cell_type": "code",
   "execution_count": 29,
   "metadata": {},
   "outputs": [
    {
     "data": {
      "text/html": [
       "<div>\n",
       "<style scoped>\n",
       "    .dataframe tbody tr th:only-of-type {\n",
       "        vertical-align: middle;\n",
       "    }\n",
       "\n",
       "    .dataframe tbody tr th {\n",
       "        vertical-align: top;\n",
       "    }\n",
       "\n",
       "    .dataframe thead th {\n",
       "        text-align: right;\n",
       "    }\n",
       "</style>\n",
       "<table border=\"1\" class=\"dataframe\">\n",
       "  <thead>\n",
       "    <tr style=\"text-align: right;\">\n",
       "      <th></th>\n",
       "      <th>Account Number</th>\n",
       "      <th>Transaction Description</th>\n",
       "      <th>Transaction Date</th>\n",
       "      <th>Transaction Type</th>\n",
       "      <th>Transaction Amount</th>\n",
       "      <th>Balance</th>\n",
       "    </tr>\n",
       "  </thead>\n",
       "  <tbody>\n",
       "    <tr>\n",
       "      <th>0</th>\n",
       "      <td>8225</td>\n",
       "      <td>Debit Card Purchase - NYTIMES NYTIMES 800 698 ...</td>\n",
       "      <td>08/01/24</td>\n",
       "      <td>Debit</td>\n",
       "      <td>20.00</td>\n",
       "      <td>181.45</td>\n",
       "    </tr>\n",
       "    <tr>\n",
       "      <th>1</th>\n",
       "      <td>8225</td>\n",
       "      <td>Debit Card Purchase - STOP &amp; SHOP 0877 553 S B...</td>\n",
       "      <td>07/29/24</td>\n",
       "      <td>Debit</td>\n",
       "      <td>204.87</td>\n",
       "      <td>201.45</td>\n",
       "    </tr>\n",
       "    <tr>\n",
       "      <th>2</th>\n",
       "      <td>8225</td>\n",
       "      <td>Non-Capital One ATM Fee - WELLS FARGO BANK BAS...</td>\n",
       "      <td>07/29/24</td>\n",
       "      <td>Debit</td>\n",
       "      <td>2.00</td>\n",
       "      <td>406.32</td>\n",
       "    </tr>\n",
       "    <tr>\n",
       "      <th>3</th>\n",
       "      <td>8225</td>\n",
       "      <td>ATM Withdrawal - WELLS FARGO BANK 2496Q BASKIN...</td>\n",
       "      <td>07/29/24</td>\n",
       "      <td>Debit</td>\n",
       "      <td>173.00</td>\n",
       "      <td>408.32</td>\n",
       "    </tr>\n",
       "    <tr>\n",
       "      <th>4</th>\n",
       "      <td>8225</td>\n",
       "      <td>Debit Card Purchase - CRANE FARM BASKING RIDG NJ</td>\n",
       "      <td>07/28/24</td>\n",
       "      <td>Debit</td>\n",
       "      <td>18.05</td>\n",
       "      <td>581.32</td>\n",
       "    </tr>\n",
       "  </tbody>\n",
       "</table>\n",
       "</div>"
      ],
      "text/plain": [
       "   Account Number                            Transaction Description  \\\n",
       "0            8225  Debit Card Purchase - NYTIMES NYTIMES 800 698 ...   \n",
       "1            8225  Debit Card Purchase - STOP & SHOP 0877 553 S B...   \n",
       "2            8225  Non-Capital One ATM Fee - WELLS FARGO BANK BAS...   \n",
       "3            8225  ATM Withdrawal - WELLS FARGO BANK 2496Q BASKIN...   \n",
       "4            8225   Debit Card Purchase - CRANE FARM BASKING RIDG NJ   \n",
       "\n",
       "  Transaction Date Transaction Type  Transaction Amount  Balance  \n",
       "0         08/01/24            Debit               20.00   181.45  \n",
       "1         07/29/24            Debit              204.87   201.45  \n",
       "2         07/29/24            Debit                2.00   406.32  \n",
       "3         07/29/24            Debit              173.00   408.32  \n",
       "4         07/28/24            Debit               18.05   581.32  "
      ]
     },
     "execution_count": 29,
     "metadata": {},
     "output_type": "execute_result"
    }
   ],
   "source": [
    "#import expenses\n",
    "expenses = pd.read_csv(path)\n",
    "\n",
    "expenses.head()\n",
    "\n",
    "#expenses_df = expenses.active"
   ]
  },
  {
   "cell_type": "code",
   "execution_count": null,
   "metadata": {},
   "outputs": [],
   "source": []
  },
  {
   "cell_type": "markdown",
   "metadata": {},
   "source": [
    "<br />[return to TOC](#table-of-contents-TOC)"
   ]
  },
  {
   "cell_type": "markdown",
   "metadata": {},
   "source": [
    "## Modeling <a id='modeling'></a> \n",
    "\n",
    "<br />[return to TOC](#table-of-contents-TOC)"
   ]
  },
  {
   "cell_type": "markdown",
   "metadata": {},
   "source": [
    "## Evaluation<a id='evaluation'></a>\n",
    "\n",
    "<br />[return to TOC](#table-of-contents-TOC)"
   ]
  },
  {
   "cell_type": "markdown",
   "metadata": {},
   "source": [
    "## Key Findings<a id='key-findings'></a>\n",
    "\n",
    "<br />[return to TOC](#table-of-contents-TOC)"
   ]
  },
  {
   "cell_type": "markdown",
   "metadata": {},
   "source": [
    "## Summary<a id='summary'></a>\n",
    "\n",
    "### Next Steps:\n",
    "#### Additional Data\n",
    "\n",
    "#### Test UI Prompts\n",
    "\n",
    "#### Try Calorie Counting\n",
    "\n",
    "<br />[return to TOC](#table-of-contents-TOC)"
   ]
  },
  {
   "cell_type": "code",
   "execution_count": null,
   "metadata": {},
   "outputs": [],
   "source": []
  }
 ],
 "metadata": {
  "kernelspec": {
   "display_name": "Python (learn-env)",
   "language": "python",
   "name": "learn-env"
  },
  "language_info": {
   "codemirror_mode": {
    "name": "ipython",
    "version": 3
   },
   "file_extension": ".py",
   "mimetype": "text/x-python",
   "name": "python",
   "nbconvert_exporter": "python",
   "pygments_lexer": "ipython3",
   "version": "3.8.5"
  }
 },
 "nbformat": 4,
 "nbformat_minor": 4
}
