{
 "cells": [
  {
   "cell_type": "markdown",
   "metadata": {},
   "source": [
    "# Accounting Fun\n",
    "\n",
    "<p align=\"center\">\n",
    "<img src=\"images/accounting.png\" width=\"400\" height=\"400\" />\n",
    "</p>\n",
    "\n",
    "## Overview\n",
    "This project is currently under construction. But when complete, it will alleviate the hastle of managing my expenses from a spreadsheet every month. The idea is to maintain my own database of expenses, and then have a machine learning model categorize those expenses. Once we've classified it, we can develop dashboards that will resonate with everyone.\n",
    "<br />\n",
    "\n",
    "## Table of Contents TOC<a id='table-of-contents-TOC'></a> \n",
    "[Google Colab Instructions](#google-colab-instructions)<br />\n",
    "[Business Case](#business-case)<br />\n",
    "[Data Understanding](#data-understanding)<br />\n",
    "[Data Preparation](#data-preparation)<br />\n",
    "[Modeling](#modeling)<br />\n",
    "[Evaluation](#evaluation)<br />\n",
    "[Key Findings](#key-findings)<br />\n",
    "[Summary](#summary)<br />"
   ]
  },
  {
   "cell_type": "markdown",
   "metadata": {},
   "source": [
    "## Google Colab Instructions <a id='google-colab-instructions'></a> \n",
    "To run this notebook, you'll need a Kaggle log-in and web access to [Google Colab and link to this notebook](). Google Colab is a free, user-friendly platform to run software, specifically data models. Kaggle is a [website](https://www.kaggle.com/) popular with the data industry that hosts databases and runs data analytics competition. To access the [database]() for this model, you\n",
    "will need to create a Kaggle account and follow the instructions to download your 'token' and 'key'. This\n",
    "model will prompt you to have that information.\n",
    "<br />[return to TOC](#table-of-contents-TOC)\n",
    "\n",
    "\n",
    "## Business Case <a id='business-case'></a> \n",
    "\n",
    "<br />[return to TOC](#table-of-contents-TOC)\n",
    "\n",
    "## Data Understanding <a id='data-understanding'></a>\n",
    "<br />[return to TOC](#table-of-contents-TOC)\n",
    "\n",
    "The data can be found in the following locations:\n",
    "\n",
    "* [Kaggle]()\n",
    "* [THis Repository]()\n",
    "\n",
    "## Data Preparation <a id='data-preparation'></a>\n",
    "\n",
    "<br />[return to TOC](#table-of-contents-TOC)\n",
    "\n",
    "## Modeling <a id='modeling'></a> \n",
    "\n",
    "<br />[return to TOC](#table-of-contents-TOC)\n",
    "\n",
    "## Evaluation<a id='evaluation'></a>\n",
    "\n",
    "<br />[return to TOC](#table-of-contents-TOC)\n",
    "\n",
    "## Key Findings<a id='key-findings'></a>\n",
    "\n",
    "<br />[return to TOC](#table-of-contents-TOC)\n",
    "\n",
    "## Summary<a id='summary'></a>\n",
    "\n",
    "### Next Steps:\n",
    "#### Additional Data\n",
    "\n",
    "#### Test UI Prompts\n",
    "\n",
    "#### Try Calorie Counting\n",
    "\n",
    "<br />[return to TOC](#table-of-contents-TOC)\n",
    "\n"
   ]
  },
  {
   "cell_type": "code",
   "execution_count": null,
   "metadata": {},
   "outputs": [],
   "source": []
  }
 ],
 "metadata": {
  "kernelspec": {
   "display_name": "Python (learn-env)",
   "language": "python",
   "name": "learn-env"
  },
  "language_info": {
   "codemirror_mode": {
    "name": "ipython",
    "version": 3
   },
   "file_extension": ".py",
   "mimetype": "text/x-python",
   "name": "python",
   "nbconvert_exporter": "python",
   "pygments_lexer": "ipython3",
   "version": "3.8.5"
  }
 },
 "nbformat": 4,
 "nbformat_minor": 4
}
