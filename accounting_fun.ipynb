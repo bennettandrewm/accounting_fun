{
 "cells": [
  {
   "cell_type": "markdown",
   "metadata": {},
   "source": [
    "# Accounting Fun\n",
    "\n",
    "<p align=\"center\">\n",
    "<img src=\"images/accounting.png\" width=\"400\" height=\"400\" />\n",
    "</p>\n",
    "\n",
    "## Overview\n",
    "This project is currently under construction. But when complete, it will alleviate the hastle of managing my expenses from a spreadsheet every month. The idea is to maintain my own database of expenses, and then have a machine learning model categorize those expenses. Once we've classified it, we can develop dashboards that will resonate with everyone.\n",
    "<br />\n",
    "\n",
    "## Table of Contents TOC<a id='table-of-contents-TOC'></a> \n",
    "[Google Colab Instructions](#google-colab-instructions)<br />\n",
    "[Business Case](#business-case)<br />\n",
    "[Data Understanding](#data-understanding)<br />\n",
    "[Data Preparation](#data-preparation)<br />\n",
    "[Modeling](#modeling)<br />\n",
    "[Evaluation](#evaluation)<br />\n",
    "[Key Findings](#key-findings)<br />\n",
    "[Summary](#summary)<br />"
   ]
  },
  {
   "cell_type": "markdown",
   "metadata": {},
   "source": [
    "## Google Colab Instructions <a id='google-colab-instructions'></a> \n",
    "To run this notebook, you'll need a Kaggle log-in and web access to [Google Colab and link to this notebook](). Google Colab is a free, user-friendly platform to run software, specifically data models. Kaggle is a [website](https://www.kaggle.com/) popular with the data industry that hosts databases and runs data analytics competition. To access the [database]() for this model, you\n",
    "will need to create a Kaggle account and follow the instructions to download your 'token' and 'key'. This\n",
    "model will prompt you to have that information.\n",
    "<br />[return to TOC](#table-of-contents-TOC)"
   ]
  },
  {
   "cell_type": "markdown",
   "metadata": {},
   "source": [
    "## Business Case <a id='business-case'></a> \n",
    "\n",
    "<br />[return to TOC](#table-of-contents-TOC)"
   ]
  },
  {
   "cell_type": "markdown",
   "metadata": {},
   "source": [
    "## Data Understanding <a id='data-understanding'></a>\n",
    "<br />[return to TOC](#table-of-contents-TOC)\n",
    "\n",
    "The data can be found in the following locations:\n",
    "\n",
    "* [Kaggle]()\n",
    "* [THis Repository]()"
   ]
  },
  {
   "cell_type": "code",
   "execution_count": 20,
   "metadata": {},
   "outputs": [],
   "source": [
    "#pip install openpyxl==3.0.7"
   ]
  },
  {
   "cell_type": "code",
   "execution_count": 74,
   "metadata": {},
   "outputs": [],
   "source": [
    "# relevant files for import\n",
    "import os\n",
    "import pandas as pd\n",
    "import re"
   ]
  },
  {
   "cell_type": "markdown",
   "metadata": {},
   "source": [
    "## Data Preparation <a id='data-preparation'></a>\n",
    "\n",
    "Examine the data in the following folders\n"
   ]
  },
  {
   "cell_type": "code",
   "execution_count": 76,
   "metadata": {},
   "outputs": [],
   "source": [
    "#print out the directories in the folder\n",
    "'''\n",
    "Stored locally in a csv file\n",
    "\n",
    "Automatically read and put into folder\n",
    "'''\n",
    "# Get the list of all files and directories\n",
    "path = \"C:/Users/benne/OneDrive/Desktop/Expenses\"\n",
    "\n",
    "dir_list = os.listdir(path)"
   ]
  },
  {
   "cell_type": "markdown",
   "metadata": {},
   "source": [
    "## Data Preparation <a id='data-preparation'></a>\n",
    "\n",
    "Examine the data in the following folders"
   ]
  },
  {
   "cell_type": "markdown",
   "metadata": {},
   "source": [
    "### Inputting New Monthly Expense into Database "
   ]
  },
  {
   "cell_type": "code",
   "execution_count": 77,
   "metadata": {},
   "outputs": [],
   "source": [
    "#return month of expenses\n",
    "def getmonth():\n",
    "    month = 'July'\n",
    "    return month"
   ]
  },
  {
   "cell_type": "code",
   "execution_count": 78,
   "metadata": {},
   "outputs": [],
   "source": [
    "#return account of the four major accounts\n",
    "def getaccount():\n",
    "    account = 'capital_one'\n",
    "    return account"
   ]
  },
  {
   "cell_type": "code",
   "execution_count": 79,
   "metadata": {},
   "outputs": [],
   "source": [
    "#manual input of path name\n",
    "folder = 'C:/Users/benne/OneDrive/Desktop/Expenses/'\n",
    "month = getmonth()\n",
    "acc = getaccount()\n",
    "ext = '.csv'\n",
    "\n",
    "#concatenated path\n",
    "path = folder+month+'/'+acc+ext"
   ]
  },
  {
   "attachments": {},
   "cell_type": "markdown",
   "metadata": {},
   "source": [
    "Create column names that align with the following diagram. Each bank account has separate formats\n",
    "\n",
    "<p align=\"center\">\n",
    "<img src=\"images/column_names.jpeg\"/>\n",
    "</p>"
   ]
  },
  {
   "cell_type": "markdown",
   "metadata": {},
   "source": [
    "#### CapOne"
   ]
  },
  {
   "cell_type": "code",
   "execution_count": 80,
   "metadata": {},
   "outputs": [],
   "source": [
    "#Create dataframe formatted to the account, the below is utilized for Capital One\n",
    "expenses_test = pd.read_csv(path, usecols=['Transaction Description', 'Transaction Date', 'Transaction Amount', 'Transaction Type'])[['Transaction Date', 'Transaction Description', 'Transaction Amount', 'Transaction Type']]\n",
    "\n",
    "#fill in other data\n",
    "expenses_test.insert(1, column = 'Post Date', value = '')\n",
    "expenses_test.insert(3, column = 'Description', value = '')\n",
    "expenses_test.insert(4, column = 'Category', value = '')\n",
    "expenses_test.insert(6, column = 'Type', value = 'Expense')\n",
    "expenses_test.insert(7, column = 'Account', value = acc)\n",
    "expenses_test.insert(8, column = 'Frequency', value = 'One Time')"
   ]
  },
  {
   "cell_type": "code",
   "execution_count": 89,
   "metadata": {},
   "outputs": [],
   "source": [
    "#for capital one account, the debit amounts need to be shown as negatives\n",
    "expenses_test.loc[expenses_test['Transaction Type'] == 'Debit', 'Transaction Amount'] *= -1"
   ]
  },
  {
   "cell_type": "markdown",
   "metadata": {},
   "source": [
    "### Manipulating Previous Monthly Expensese into Database\n",
    "For starters, we will put the expenses from all of the data sheets into one Pandas dataframe. To do that, we'll utilize the file folder directory we'd like to use, input every sheet from every available month. We'll combine all of them into one sheet from which to do work"
   ]
  },
  {
   "cell_type": "code",
   "execution_count": 81,
   "metadata": {},
   "outputs": [],
   "source": [
    "#create the path for the excel file containing all csv worksheets from 202\n",
    "master_path = folder+dir_list[1]"
   ]
  },
  {
   "cell_type": "code",
   "execution_count": 82,
   "metadata": {},
   "outputs": [],
   "source": [
    "#input the spreadsheet and skip the first few lines, the relevant lines start at row 26\n",
    "index = 26\n",
    "df_sheet_map = pd.read_excel(master_path, sheet_name=None, skiprows = list(range(0,index)))"
   ]
  },
  {
   "cell_type": "code",
   "execution_count": 83,
   "metadata": {},
   "outputs": [],
   "source": [
    "month_list = ['Jan', 'Feb', 'Mar', 'Apr', 'May', 'Jun', 'Jul', 'Aug', 'Sep', 'Oct', 'Nov', 'Dec']"
   ]
  },
  {
   "cell_type": "code",
   "execution_count": 84,
   "metadata": {},
   "outputs": [],
   "source": [
    "cols = ['Transaction Date', 'Post Date', 'Transaction Description', 'Description', 'Category', 'Amount', 'Type', 'Account', 'Frequency']\n",
    "expense_data = pd.DataFrame(columns=cols)"
   ]
  },
  {
   "cell_type": "code",
   "execution_count": 85,
   "metadata": {},
   "outputs": [],
   "source": [
    "#loop through each month sheet and create a master expense_list. This is the dataframe that we can use to store the data.\n",
    "exp_list = [expense_data]\n",
    "\n",
    "for month in month_list:\n",
    "    exp_list.append(df_sheet_map[month])\n",
    "expense_list = pd.concat(exp_list)"
   ]
  },
  {
   "cell_type": "markdown",
   "metadata": {},
   "source": [
    "## Data Preparation <a id='data-preparation'></a>\n",
    "As we look at some of these accounts.\n",
    "\n",
    "### Inputting New Monthly Expense into Database \n",
    "Each bank account has slightly different rules for each dataset"
   ]
  },
  {
   "cell_type": "code",
   "execution_count": null,
   "metadata": {},
   "outputs": [],
   "source": []
  },
  {
   "cell_type": "code",
   "execution_count": null,
   "metadata": {},
   "outputs": [],
   "source": []
  },
  {
   "cell_type": "code",
   "execution_count": null,
   "metadata": {},
   "outputs": [],
   "source": []
  },
  {
   "cell_type": "markdown",
   "metadata": {},
   "source": [
    "<br />[return to TOC](#table-of-contents-TOC)"
   ]
  },
  {
   "cell_type": "markdown",
   "metadata": {},
   "source": [
    "## Modeling <a id='modeling'></a> \n",
    "\n",
    "<br />[return to TOC](#table-of-contents-TOC)"
   ]
  },
  {
   "cell_type": "code",
   "execution_count": null,
   "metadata": {},
   "outputs": [],
   "source": [
    "'''\n",
    "heirarchy of decision making\n",
    "1. identify if it's a previous purchase\n",
    "2. is it a vaction purchase\n",
    "3. it's a one-time, unidentifiable expense\n",
    "\n",
    "'''"
   ]
  },
  {
   "cell_type": "code",
   "execution_count": 91,
   "metadata": {},
   "outputs": [],
   "source": [
    "#create description list\n",
    "description_list = list(set(expense_list['Description']))\n",
    "description_list[0]=''\n",
    "description_list.sort()"
   ]
  },
  {
   "cell_type": "code",
   "execution_count": 92,
   "metadata": {},
   "outputs": [
    {
     "data": {
      "text/plain": [
       "['',\n",
       " '4489 Broadway',\n",
       " 'AI',\n",
       " 'ATM',\n",
       " 'ATM FEE',\n",
       " 'ATM Fee',\n",
       " 'ATM Withdrawal',\n",
       " 'Aaptiv',\n",
       " 'Account Interest',\n",
       " 'Acorn',\n",
       " 'Adjustments & Fees',\n",
       " 'Alcohol',\n",
       " 'Alochol',\n",
       " 'Amazon',\n",
       " 'Amazon Music',\n",
       " 'Ancestry',\n",
       " 'Andrew B-Day',\n",
       " 'Andrew Gencay',\n",
       " 'Andrew Hair',\n",
       " 'Andrew Iphone',\n",
       " 'Andrew Life',\n",
       " 'Andrew Therapy',\n",
       " 'Apple Storage',\n",
       " 'Apple Store',\n",
       " 'Apple TV',\n",
       " 'AppleTV',\n",
       " 'Audacy',\n",
       " 'Audacy - Reimbursement',\n",
       " 'Audible',\n",
       " 'Auto Garage',\n",
       " 'Bagel',\n",
       " 'Bagels',\n",
       " 'Bakery',\n",
       " 'Bar',\n",
       " 'Best Buy',\n",
       " 'Biden',\n",
       " 'Biden ActBlue',\n",
       " 'Big Ear',\n",
       " 'Big Ears',\n",
       " 'Bolt',\n",
       " 'Bolt ',\n",
       " 'Book Fair',\n",
       " 'Boscov',\n",
       " 'Braver Angels',\n",
       " 'Breakfast',\n",
       " 'CBS',\n",
       " 'Cake',\n",
       " 'Cam Jam Kifs',\n",
       " 'Cape Cod',\n",
       " 'Capital One',\n",
       " 'Car Insurance',\n",
       " 'Car Registration',\n",
       " 'Car Repair',\n",
       " 'Cash Redemption',\n",
       " 'Central Park Zoo',\n",
       " 'Charlie, Max, & Ivy Gifts',\n",
       " 'Chase',\n",
       " 'ChatGPT',\n",
       " 'Check - Miscellaneous',\n",
       " 'Checking Interest',\n",
       " 'Clothes',\n",
       " 'Club Air',\n",
       " 'Columbia Facility',\n",
       " 'Commuter',\n",
       " 'Computer Repair',\n",
       " 'Concert',\n",
       " 'Crane',\n",
       " 'Crayola',\n",
       " 'Creative Cube',\n",
       " 'Dem & Chron',\n",
       " 'Dem. & Chron',\n",
       " 'Dem. & Crhon',\n",
       " 'Dentist',\n",
       " 'Diner',\n",
       " 'Dinner',\n",
       " 'Disney',\n",
       " 'Disney+',\n",
       " 'DisneyPlus',\n",
       " 'Doctor',\n",
       " 'Doctors',\n",
       " 'Dropbox',\n",
       " 'Drugsore',\n",
       " 'Drugstore',\n",
       " 'Drycleaners',\n",
       " 'EJ',\n",
       " 'EZ Pass',\n",
       " 'EZPass',\n",
       " 'EdAid',\n",
       " 'Edible Estates',\n",
       " 'Electric',\n",
       " 'Essen',\n",
       " 'Ezpass',\n",
       " 'Famous Footwear',\n",
       " 'Fast Food',\n",
       " \"Father's Day\",\n",
       " 'Fees & Adjustments',\n",
       " 'Fios',\n",
       " 'Flatiron',\n",
       " 'Food & Drink',\n",
       " 'GNC',\n",
       " 'Gas',\n",
       " 'Gencay',\n",
       " 'Gency',\n",
       " 'Gifts & Donations',\n",
       " 'Girl from Ipanema Spa',\n",
       " 'Goggles',\n",
       " 'Google',\n",
       " \"Green's Natural\",\n",
       " 'Greenhouse',\n",
       " 'Groceries',\n",
       " 'Grooming',\n",
       " 'Gymnastics',\n",
       " 'HBO Max',\n",
       " 'HBOMax',\n",
       " 'Hair',\n",
       " 'Hair Guy',\n",
       " 'Hallmark',\n",
       " 'Hardware',\n",
       " 'Hardware Store',\n",
       " 'Harmony',\n",
       " 'Hibba NYC',\n",
       " 'Higgins Lake',\n",
       " 'Home Goods',\n",
       " 'Home Repairs',\n",
       " 'Hot Water Heater',\n",
       " 'Hulu',\n",
       " 'Ice Cream',\n",
       " 'Imagine That',\n",
       " 'Insurance',\n",
       " 'Interest',\n",
       " 'Interest ',\n",
       " 'Interest Charge',\n",
       " 'Janie & Jack',\n",
       " 'John Birthday',\n",
       " 'Kids Empire',\n",
       " 'LInkedIn',\n",
       " 'Labcorp',\n",
       " 'Leetcode',\n",
       " 'Lego',\n",
       " 'LinkedIn',\n",
       " 'LinkedIne',\n",
       " 'Lolli and Pops',\n",
       " 'Lucas',\n",
       " 'Lucas B-Day',\n",
       " 'Lucas Bday',\n",
       " 'Lucas College',\n",
       " 'Lucas Hair',\n",
       " 'Lucas Haircut',\n",
       " 'Lucas Podiatrist',\n",
       " 'Lucas Swim',\n",
       " 'Lucas Therapists',\n",
       " 'Lunch',\n",
       " 'MSFT',\n",
       " 'MTA',\n",
       " 'Maggie B-Day',\n",
       " 'Maggie Expense',\n",
       " 'Maggie Expenses',\n",
       " 'Maggie Iphone',\n",
       " 'Maggie Life',\n",
       " 'Maggie Show',\n",
       " 'Maggie Work',\n",
       " 'Manish',\n",
       " 'Marshalls',\n",
       " 'Mexico',\n",
       " \"Michael's\",\n",
       " 'Michaels',\n",
       " 'Michigan',\n",
       " 'Microsoft',\n",
       " 'Miscellaneous',\n",
       " \"Mom's B-Day\",\n",
       " \"Mother's Day\",\n",
       " 'NJ Transit',\n",
       " 'NYTimes',\n",
       " 'NYTimtes',\n",
       " 'Nails',\n",
       " 'Netflix',\n",
       " 'Nicole Birthday',\n",
       " 'Nissan',\n",
       " 'Nissan Rogue',\n",
       " 'Noah Smith',\n",
       " 'Noahpinion',\n",
       " 'Nutrafol',\n",
       " 'Open AI',\n",
       " 'Overdraft Fee',\n",
       " 'Parking',\n",
       " 'Party City',\n",
       " 'Passport',\n",
       " 'Philip Glass',\n",
       " 'Phone',\n",
       " 'Physiatrsit',\n",
       " 'Pizza',\n",
       " 'Pool',\n",
       " 'Printer',\n",
       " 'Property',\n",
       " 'Psychiatrist',\n",
       " 'Psyiatrist',\n",
       " 'Radiology',\n",
       " \"Ray's Birthday\",\n",
       " 'Rebecca Collection',\n",
       " 'Rent',\n",
       " \"Renter's\",\n",
       " \"Renter's Insurance\",\n",
       " 'Ring',\n",
       " 'Rogue',\n",
       " 'Rogue Loan',\n",
       " 'Rogue Payment',\n",
       " 'Running Shoes',\n",
       " 'SAG Withdrawal',\n",
       " 'SI',\n",
       " 'Sandy Hook',\n",
       " 'Savings Transfer',\n",
       " 'Sawyer',\n",
       " 'Shopping',\n",
       " 'Shoprite',\n",
       " 'Showtime',\n",
       " 'Spa',\n",
       " 'Spotify',\n",
       " 'Stirling Fin',\n",
       " 'Stop-N-Shop',\n",
       " 'Stop-n-Shop',\n",
       " 'Summer Camp',\n",
       " 'SummerCamp',\n",
       " 'Swimming',\n",
       " 'TJMaxx',\n",
       " 'Tax Guy',\n",
       " 'Tax Refund',\n",
       " 'Therapist',\n",
       " 'Tim B-Day',\n",
       " 'Tim Fantasy Football',\n",
       " 'Tons of Toys',\n",
       " \"Trader Joe's\",\n",
       " 'Trader Joes',\n",
       " 'Tranfer',\n",
       " 'Transfer',\n",
       " 'Trash',\n",
       " 'USPS',\n",
       " 'Uber',\n",
       " 'Unleashed Brands',\n",
       " \"Valentine's Flowers\",\n",
       " 'Venmo',\n",
       " 'Venmo - EJ',\n",
       " 'Venmo - Work',\n",
       " 'Vide Rental',\n",
       " 'Video Rental',\n",
       " 'Village Play Café',\n",
       " 'Waste',\n",
       " 'Water',\n",
       " 'Water Filter',\n",
       " 'Water Filters',\n",
       " 'Wegmans',\n",
       " 'Westwood',\n",
       " 'Whole Foods',\n",
       " 'Wikipedia',\n",
       " 'Will & Trust',\n",
       " 'Withdrawal',\n",
       " 'YMCA',\n",
       " 'Zaros']"
      ]
     },
     "execution_count": 92,
     "metadata": {},
     "output_type": "execute_result"
    }
   ],
   "source": [
    "description_list"
   ]
  },
  {
   "cell_type": "code",
   "execution_count": null,
   "metadata": {},
   "outputs": [],
   "source": [
    " def binarySearch(arr, x):\n",
    "    low = 0\n",
    "    high = len(arr)-1\n",
    "\n",
    "    while low <= high:\n",
    "        mid = low + (high - low) // 2\n",
    "        # Check if x is present at mid\n",
    "        if arr[mid] == x:\n",
    "            return mid\n",
    "        # If x is greater, ignore left half\n",
    "        elif arr[mid] < x:\n",
    "            low = mid + 1\n",
    "        # If x is smaller, ignore right half\n",
    "        else:\n",
    "            high = mid - 1\n",
    "\n",
    "    # If we reach here, then the element\n",
    "    # was not present\n",
    "    return -1"
   ]
  },
  {
   "cell_type": "code",
   "execution_count": null,
   "metadata": {},
   "outputs": [],
   "source": [
    "#determines if a word in the purchase list is located\n",
    "def prev_purchase(expense):\n",
    "    wordlist = re.sub(\"[^\\w]\", \" \",   expense).split()\n",
    "    wordlist.remove('Debit')\n",
    "    wordlist.remove('Purchase')\n",
    "    wordlist.remove('Card')\n",
    "    for word in wordlist:\n",
    "        search = binarySearch(final_list, word)\n",
    "        if search != -1:\n",
    "            return final_list[search]\n",
    "    return False  \n"
   ]
  },
  {
   "cell_type": "code",
   "execution_count": null,
   "metadata": {},
   "outputs": [],
   "source": [
    "expense = expenses_test.loc[54,'Transaction Description']\n",
    "\n",
    "purchase = prev_purchase(expense)\n",
    "purchase"
   ]
  },
  {
   "cell_type": "code",
   "execution_count": null,
   "metadata": {},
   "outputs": [],
   "source": [
    "'''\n",
    "vacation purchase identification\n",
    "1. one time purchases within the dates of the vacation\n",
    "2. air travel or hotel spend\n",
    "'''"
   ]
  },
  {
   "cell_type": "code",
   "execution_count": null,
   "metadata": {},
   "outputs": [],
   "source": [
    "'''\n",
    "shopping, expense, with the description being the first few words after debit card purchase\n",
    "'''"
   ]
  },
  {
   "cell_type": "code",
   "execution_count": null,
   "metadata": {},
   "outputs": [],
   "source": []
  },
  {
   "cell_type": "markdown",
   "metadata": {},
   "source": [
    "## Evaluation<a id='evaluation'></a>\n",
    "\n",
    "<br />[return to TOC](#table-of-contents-TOC)"
   ]
  },
  {
   "cell_type": "markdown",
   "metadata": {},
   "source": [
    "## Key Findings<a id='key-findings'></a>\n",
    "\n",
    "<br />[return to TOC](#table-of-contents-TOC)"
   ]
  },
  {
   "cell_type": "markdown",
   "metadata": {},
   "source": [
    "## Summary<a id='summary'></a>\n",
    "\n",
    "### Next Steps:\n",
    "#### Additional Data\n",
    "\n",
    "#### Test UI Prompts\n",
    "\n",
    "#### Try Calorie Counting\n",
    "\n",
    "<br />[return to TOC](#table-of-contents-TOC)"
   ]
  },
  {
   "cell_type": "code",
   "execution_count": null,
   "metadata": {},
   "outputs": [],
   "source": []
  }
 ],
 "metadata": {
  "kernelspec": {
   "display_name": "Python (learn-env)",
   "language": "python",
   "name": "learn-env"
  },
  "language_info": {
   "codemirror_mode": {
    "name": "ipython",
    "version": 3
   },
   "file_extension": ".py",
   "mimetype": "text/x-python",
   "name": "python",
   "nbconvert_exporter": "python",
   "pygments_lexer": "ipython3",
   "version": "3.8.5"
  }
 },
 "nbformat": 4,
 "nbformat_minor": 4
}
